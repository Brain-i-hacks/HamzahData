{
 "cells": [
  {
   "cell_type": "code",
   "execution_count": 1,
   "id": "91e283d3",
   "metadata": {},
   "outputs": [],
   "source": [
    "import numpy as np\n",
    "import pandas as pd\n",
    "import os"
   ]
  },
  {
   "cell_type": "code",
   "execution_count": 2,
   "id": "9fd280fd",
   "metadata": {},
   "outputs": [],
   "source": [
    "pathRandom = \"C:\\\\Users\\\\anita\\\\OneDrive\\\\Bureaublad\\\\Anita\\'s stuff II\\\\Tilburg university\\\\Brainihacks\\\\EngagementStudy\\\\CleanSetFiles\\\\EngagementCSV\\\\Random\"\n",
    "pathAdaptive = \"C:\\\\Users\\\\anita\\\\OneDrive\\\\Bureaublad\\\\Anita\\'s stuff II\\\\Tilburg university\\\\Brainihacks\\\\EngagementStudy\\\\CleanSetFiles\\\\EngagementCSV\\\\Adaptive\\\\\"\n"
   ]
  },
  {
   "cell_type": "code",
   "execution_count": 4,
   "id": "9b5f72e3",
   "metadata": {},
   "outputs": [
    {
     "name": "stdout",
     "output_type": "stream",
     "text": [
      "39\n",
      "39\n"
     ]
    }
   ],
   "source": [
    "flistRandom = []\n",
    "flistAdaptive = []\n",
    "\n",
    "for i in os.listdir(pathRandom):\n",
    "    if 'Engagement_Raw' in i:\n",
    "        flistRandom.append(i)\n",
    "        \n",
    "        \n",
    "for i in os.listdir(pathAdaptive):\n",
    "    if 'Engagement_Raw' in i:\n",
    "        flistAdaptive.append(i)\n",
    "        \n",
    "print(len(flistRandom))\n",
    "print(len(flistAdaptive))\n",
    "\n",
    "#AdaptiveP10Engagement_Raw.csv"
   ]
  },
  {
   "cell_type": "code",
   "execution_count": 5,
   "id": "5ae6c3e7",
   "metadata": {},
   "outputs": [],
   "source": [
    "def getColumn(flist, column, adaptive):\n",
    "    total_list = []\n",
    "    for i in range(len(flist)):\n",
    "        #print(flist[i])\n",
    "        if adaptive == True:\n",
    "            current = pd.read_csv(str(pathAdaptive + '\\\\' +  flist[i]))\n",
    "        else:\n",
    "            current = pd.read_csv(str(pathRandom +'\\\\'+ flist[i]))\n",
    "        total_list.append(np.mean(current[column]))\n",
    "     \n",
    "    out = np.array(total_list)\n",
    "    return out"
   ]
  },
  {
   "cell_type": "code",
   "execution_count": 47,
   "id": "26a856d5",
   "metadata": {},
   "outputs": [],
   "source": [
    "#data = pd.read_csv(\"C:\\\\Users\\\\anita\\\\OneDrive\\\\Bureaublad\\\\Anita\\'s stuff II\\\\Tilburg university\\\\Brainihacks\\\\EngagementStudy\\\\CleanSetFiles\\\\EngagementCSV\\\\Adaptive\\\\AdaptiveP10Engagement_Raw.csv\")"
   ]
  },
  {
   "cell_type": "code",
   "execution_count": 6,
   "id": "4f6a6c6b",
   "metadata": {},
   "outputs": [
    {
     "name": "stdout",
     "output_type": "stream",
     "text": [
      "EEG Engagement Mean of Total:  1.177808489378455\n",
      "Mean of Frontal:  1.053733779206811\n",
      "Mean of Central:  1.2407090312114708\n",
      "Mean of Parietal:  1.2593740471632948\n"
     ]
    }
   ],
   "source": [
    "#Adaptive\n",
    "print('EEG Engagement Mean of Total: ', np.mean(getColumn(flistAdaptive, 'Total', adaptive = True)))\n",
    "print('Mean of Frontal: ', np.mean(getColumn(flistAdaptive, 'Frontal', adaptive = True)))\n",
    "print('Mean of Central: ', np.mean(getColumn(flistAdaptive, 'Central', adaptive = True)))\n",
    "print('Mean of Parietal: ', np.mean(getColumn(flistAdaptive, 'Parietal', adaptive = True)))"
   ]
  },
  {
   "cell_type": "code",
   "execution_count": 7,
   "id": "19ea578e",
   "metadata": {},
   "outputs": [
    {
     "name": "stdout",
     "output_type": "stream",
     "text": [
      "EEG Engagement Mean of Total:  1.1842024360971704\n",
      "Mean of Frontal:  1.0523292283355847\n",
      "Mean of Central:  1.2476063820480363\n",
      "Mean of Parietal:  1.2754947851781309\n"
     ]
    }
   ],
   "source": [
    "#random\n",
    "print('EEG Engagement Mean of Total: ', np.mean(getColumn(flistRandom, 'Total', adaptive = False)))\n",
    "print('Mean of Frontal: ', np.mean(getColumn(flistRandom, 'Frontal', adaptive = False)))\n",
    "print('Mean of Central: ', np.mean(getColumn(flistRandom, 'Central', adaptive = False)))\n",
    "print('Mean of Parietal: ', np.mean(getColumn(flistRandom, 'Parietal', adaptive = False)))"
   ]
  },
  {
   "cell_type": "code",
   "execution_count": 16,
   "id": "8a13b68a",
   "metadata": {
    "scrolled": true
   },
   "outputs": [
    {
     "name": "stdout",
     "output_type": "stream",
     "text": [
      "EEG Engagement Mean of Random (Total):  1.1842024360971704\n",
      "EEG Engagement Mean of Adaptive (Total):  1.177808489378455\n",
      "WilcoxonResult(statistic=373.0, pvalue=0.40623725629309887)\n"
     ]
    }
   ],
   "source": [
    "import scipy\n",
    "from scipy.stats import wilcoxon\n",
    "\n",
    "print('EEG Engagement Mean of Random (Total): ', np.mean(getColumn(flistRandom, 'Total', adaptive = False)))\n",
    "print('EEG Engagement Mean of Adaptive (Total): ', np.mean(getColumn(flistAdaptive, 'Total', adaptive = True)))\n",
    "print(scipy.stats.wilcoxon(getColumn(flistAdaptive, 'Total', adaptive = True),getColumn(flistRandom, 'Total', adaptive = False), alternative = 'less'))\n"
   ]
  },
  {
   "cell_type": "code",
   "execution_count": 9,
   "id": "bf3da2c9",
   "metadata": {},
   "outputs": [
    {
     "name": "stdout",
     "output_type": "stream",
     "text": [
      "EEG Engagement Mean of Random (Frontal):  1.0523292283355847\n",
      "EEG Engagement Mean of Adaptive (Frontal):  1.053733779206811\n",
      "WilcoxonResult(statistic=416.0, pvalue=0.35836596024642386)\n"
     ]
    }
   ],
   "source": [
    "print('EEG Engagement Mean of Random (Frontal): ', np.mean(getColumn(flistRandom, 'Frontal', adaptive = False)))\n",
    "print('EEG Engagement Mean of Adaptive (Frontal): ', np.mean(getColumn(flistAdaptive, 'Frontal', adaptive = True)))\n",
    "print(scipy.stats.wilcoxon(getColumn(flistAdaptive, 'Frontal', adaptive = True),getColumn(flistRandom, 'Frontal', adaptive = False), alternative = 'greater'))\n"
   ]
  },
  {
   "cell_type": "code",
   "execution_count": 10,
   "id": "3dd5851a",
   "metadata": {},
   "outputs": [
    {
     "name": "stdout",
     "output_type": "stream",
     "text": [
      "EEG Engagement Mean of Random (Central):  1.2476063820480363\n",
      "EEG Engagement Mean of Adaptive (Central):  1.2407090312114708\n",
      "WilcoxonResult(statistic=364.0, pvalue=0.35836596024642386)\n"
     ]
    }
   ],
   "source": [
    "print('EEG Engagement Mean of Random (Central): ', np.mean(getColumn(flistRandom, 'Central', adaptive = False)))\n",
    "print('EEG Engagement Mean of Adaptive (Central): ', np.mean(getColumn(flistAdaptive, 'Central', adaptive = True)))\n",
    "print(scipy.stats.wilcoxon(getColumn(flistAdaptive, 'Central', adaptive = True),getColumn(flistRandom, 'Central', adaptive = False), alternative = 'less'))\n"
   ]
  },
  {
   "cell_type": "code",
   "execution_count": 14,
   "id": "338495fc",
   "metadata": {},
   "outputs": [
    {
     "name": "stdout",
     "output_type": "stream",
     "text": [
      "Paired t-test statistic: -0.39185358730865627\n",
      "p-value: 0.6973554208662978\n"
     ]
    }
   ],
   "source": [
    "from scipy.stats import ttest_rel\n",
    "\n",
    "\n",
    "\n",
    "# Perform the paired t-test\n",
    "statistic, p_value = ttest_rel(centralAdaptive, centralRandom)\n",
    "\n",
    "# Print the test statistic and p-value\n",
    "print(\"Paired t-test statistic:\", statistic)\n",
    "print(\"p-value:\", p_value)"
   ]
  },
  {
   "cell_type": "code",
   "execution_count": 15,
   "id": "96bbfa09",
   "metadata": {},
   "outputs": [
    {
     "name": "stdout",
     "output_type": "stream",
     "text": [
      "EEG Engagement Mean of Random (Parietal):  1.2754947851781309\n",
      "EEG Engagement Mean of Adaptive (Parietal):  1.2593740471632948\n",
      "WilcoxonResult(statistic=315.0, pvalue=0.14763631948414918)\n"
     ]
    }
   ],
   "source": [
    "print('EEG Engagement Mean of Random (Parietal): ', np.mean(getColumn(flistRandom, 'Parietal', adaptive = False)))\n",
    "print('EEG Engagement Mean of Adaptive (Parietal): ', np.mean(getColumn(flistAdaptive, 'Parietal', adaptive = True)))\n",
    "print(scipy.stats.wilcoxon(getColumn(flistAdaptive, 'Parietal', adaptive = True),getColumn(flistRandom, 'Parietal', adaptive = False), alternative = 'less'))\n"
   ]
  },
  {
   "cell_type": "code",
   "execution_count": 12,
   "id": "8680025f",
   "metadata": {},
   "outputs": [
    {
     "data": {
      "text/plain": [
       "<matplotlib.legend.Legend at 0x282d081dac0>"
      ]
     },
     "execution_count": 12,
     "metadata": {},
     "output_type": "execute_result"
    },
    {
     "data": {
      "image/png": "[encoded data removed]",
      "text/plain": [
       "<Figure size 432x288 with 1 Axes>"
      ]
     },
     "metadata": {
      "needs_background": "light"
     },
     "output_type": "display_data"
    }
   ],
   "source": [
    "import matplotlib.pyplot as plt\n",
    "%matplotlib inline\n",
    "\n",
    "centralAdaptive = getColumn(flistAdaptive, 'Central', adaptive = True)\n",
    "centralRandom = getColumn(flistRandom, 'Central', adaptive = False)\n",
    "plt.plot(centralAdaptive, label = 'Adaptive')\n",
    "plt.plot(centralRandom, label = 'Random')\n",
    "plt.legend()"
   ]
  },
  {
   "cell_type": "code",
   "execution_count": 71,
   "id": "53ee2c9c",
   "metadata": {},
   "outputs": [
    {
     "name": "stdout",
     "output_type": "stream",
     "text": [
      "39\n"
     ]
    }
   ],
   "source": [
    "print(len(centralAdaptive))"
   ]
  }
 ],
 "metadata": {
  "kernelspec": {
   "display_name": "Python 3 (ipykernel)",
   "language": "python",
   "name": "python3"
  },
  "language_info": {
   "codemirror_mode": {
    "name": "ipython",
    "version": 3
   },
   "file_extension": ".py",
   "mimetype": "text/x-python",
   "name": "python",
   "nbconvert_exporter": "python",
   "pygments_lexer": "ipython3",
   "version": "3.9.12"
  }
 },
 "nbformat": 4,
 "nbformat_minor": 5
}
