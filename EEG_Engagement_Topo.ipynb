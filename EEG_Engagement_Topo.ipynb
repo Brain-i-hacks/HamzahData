{
 "cells": [
  {
   "cell_type": "code",
   "execution_count": 2,
   "id": "91e283d3",
   "metadata": {},
   "outputs": [],
   "source": [
    "import numpy as np\n",
    "import pandas as pd\n",
    "import os"
   ]
  },
  {
   "cell_type": "code",
   "execution_count": 48,
   "id": "9fd280fd",
   "metadata": {},
   "outputs": [],
   "source": [
    "pathRandom = \"C:\\\\Users\\\\anita\\\\OneDrive\\\\Bureaublad\\\\Anita\\'s stuff II\\\\Tilburg university\\\\Brainihacks\\\\EngagementStudy\\\\CleanSetFiles\\\\EngagementCSV\\\\Random\"\n",
    "pathAdaptive = \"C:\\\\Users\\\\anita\\\\OneDrive\\\\Bureaublad\\\\Anita\\'s stuff II\\\\Tilburg university\\\\Brainihacks\\\\EngagementStudy\\\\CleanSetFiles\\\\EngagementCSV\\\\Adaptive\\\\\"\n"
   ]
  },
  {
   "cell_type": "code",
   "execution_count": 49,
   "id": "9b5f72e3",
   "metadata": {},
   "outputs": [
    {
     "name": "stdout",
     "output_type": "stream",
     "text": [
      "['RandomP10Engagement_Raw.csv', 'RandomP11Engagement_Raw.csv', 'RandomP12Engagement_Raw.csv', 'RandomP13Engagement_Raw.csv', 'RandomP14Engagement_Raw.csv', 'RandomP15Engagement_Raw.csv', 'RandomP16Engagement_Raw.csv', 'RandomP17Engagement_Raw.csv', 'RandomP18Engagement_Raw.csv', 'RandomP19Engagement_Raw.csv', 'RandomP1Engagement_Raw.csv', 'RandomP20Engagement_Raw.csv', 'RandomP21Engagement_Raw.csv', 'RandomP22Engagement_Raw.csv', 'RandomP23Engagement_Raw.csv', 'RandomP24Engagement_Raw.csv', 'RandomP25Engagement_Raw.csv', 'RandomP26Engagement_Raw.csv', 'RandomP27Engagement_Raw.csv', 'RandomP28Engagement_Raw.csv', 'RandomP29Engagement_Raw.csv', 'RandomP30Engagement_Raw.csv', 'RandomP31Engagement_Raw.csv', 'RandomP32Engagement_Raw.csv', 'RandomP33Engagement_Raw.csv', 'RandomP34Engagement_Raw.csv', 'RandomP35Engagement_Raw.csv', 'RandomP36Engagement_Raw.csv', 'RandomP37Engagement_Raw.csv', 'RandomP38Engagement_Raw.csv', 'RandomP39Engagement_Raw.csv', 'RandomP3Engagement_Raw.csv', 'RandomP40Engagement_Raw.csv', 'RandomP4Engagement_Raw.csv', 'RandomP5Engagement_Raw.csv', 'RandomP6Engagement_Raw.csv', 'RandomP7Engagement_Raw.csv', 'RandomP8Engagement_Raw.csv', 'RandomP9Engagement_Raw.csv']\n",
      "['AdaptiveP10Engagement_Raw.csv', 'AdaptiveP11Engagement_Raw.csv', 'AdaptiveP12Engagement_Raw.csv', 'AdaptiveP13Engagement_Raw.csv', 'AdaptiveP14Engagement_Raw.csv', 'AdaptiveP15Engagement_Raw.csv', 'AdaptiveP16Engagement_Raw.csv', 'AdaptiveP17Engagement_Raw.csv', 'AdaptiveP18Engagement_Raw.csv', 'AdaptiveP19Engagement_Raw.csv', 'AdaptiveP1Engagement_Raw.csv', 'AdaptiveP20Engagement_Raw.csv', 'AdaptiveP21Engagement_Raw.csv', 'AdaptiveP22Engagement_Raw.csv', 'AdaptiveP23Engagement_Raw.csv', 'AdaptiveP24Engagement_Raw.csv', 'AdaptiveP25Engagement_Raw.csv', 'AdaptiveP26Engagement_Raw.csv', 'AdaptiveP27Engagement_Raw.csv', 'AdaptiveP28Engagement_Raw.csv', 'AdaptiveP29Engagement_Raw.csv', 'AdaptiveP30Engagement_Raw.csv', 'AdaptiveP31Engagement_Raw.csv', 'AdaptiveP32Engagement_Raw.csv', 'AdaptiveP33Engagement_Raw.csv', 'AdaptiveP34Engagement_Raw.csv', 'AdaptiveP35Engagement_Raw.csv', 'AdaptiveP36Engagement_Raw.csv', 'AdaptiveP37Engagement_Raw.csv', 'AdaptiveP38Engagement_Raw.csv', 'AdaptiveP39Engagement_Raw.csv', 'AdaptiveP3Engagement_Raw.csv', 'AdaptiveP40Engagement_Raw.csv', 'AdaptiveP4Engagement_Raw.csv', 'AdaptiveP5Engagement_Raw.csv', 'AdaptiveP6Engagement_Raw.csv', 'AdaptiveP7Engagement_Raw.csv', 'AdaptiveP8Engagement_Raw.csv', 'AdaptiveP9Engagement_Raw.csv']\n"
     ]
    }
   ],
   "source": [
    "flistRandom = []\n",
    "flistAdaptive = []\n",
    "\n",
    "for i in os.listdir(pathRandom):\n",
    "    if 'Engagement_Raw' in i:\n",
    "        flistRandom.append(i)\n",
    "        \n",
    "        \n",
    "for i in os.listdir(pathAdaptive):\n",
    "    if 'Engagement_Raw' in i:\n",
    "        flistAdaptive.append(i)\n",
    "        \n",
    "print(flistRandom)\n",
    "print(flistAdaptive)\n",
    "\n",
    "#AdaptiveP10Engagement_Raw.csv"
   ]
  },
  {
   "cell_type": "code",
   "execution_count": 57,
   "id": "5ae6c3e7",
   "metadata": {},
   "outputs": [],
   "source": [
    "def getColumn(flist, column, adaptive):\n",
    "    total_list = []\n",
    "    for i in range(len(flist)):\n",
    "        #print(flist[i])\n",
    "        if adaptive == True:\n",
    "            current = pd.read_csv(str(pathAdaptive + '\\\\' +  flist[i]))\n",
    "        else:\n",
    "            current = pd.read_csv(str(pathRandom +'\\\\'+ flist[i]))\n",
    "        total_list.append(np.mean(current[column]))\n",
    "     \n",
    "    out = np.array(total_list)\n",
    "    return out"
   ]
  },
  {
   "cell_type": "code",
   "execution_count": 47,
   "id": "d167781f",
   "metadata": {},
   "outputs": [],
   "source": [
    "#data = pd.read_csv(\"C:\\\\Users\\\\anita\\\\OneDrive\\\\Bureaublad\\\\Anita\\'s stuff II\\\\Tilburg university\\\\Brainihacks\\\\EngagementStudy\\\\CleanSetFiles\\\\EngagementCSV\\\\Adaptive\\\\AdaptiveP10Engagement_Raw.csv\")"
   ]
  },
  {
   "cell_type": "code",
   "execution_count": 58,
   "id": "4f6a6c6b",
   "metadata": {},
   "outputs": [
    {
     "name": "stdout",
     "output_type": "stream",
     "text": [
      "EEG Engagement Mean of Total:  0.5159611569500362\n",
      "Mean of Frontal:  1.8770825214009896\n",
      "Mean of Central:  -0.26694327239234344\n",
      "Mean of Parietal:  -0.25499475652806197\n"
     ]
    }
   ],
   "source": [
    "#Adaptive\n",
    "print('EEG Engagement Mean of Total: ', np.mean(getColumn(flistAdaptive, 'Total', adaptive = True)))\n",
    "print('Mean of Frontal: ', np.mean(getColumn(flistAdaptive, 'Frontal', adaptive = True)))\n",
    "print('Mean of Central: ', np.mean(getColumn(flistAdaptive, 'Central', adaptive = True)))\n",
    "print('Mean of Parietal: ', np.mean(getColumn(flistAdaptive, 'Parietal', adaptive = True)))"
   ]
  },
  {
   "cell_type": "code",
   "execution_count": 60,
   "id": "455d37a1",
   "metadata": {},
   "outputs": [
    {
     "name": "stdout",
     "output_type": "stream",
     "text": [
      "EEG Engagement Mean of Total:  0.43631203413975356\n",
      "Mean of Frontal:  0.3093753540781632\n",
      "Mean of Central:  0.3953899543510311\n",
      "Mean of Parietal:  0.6601237139401712\n"
     ]
    }
   ],
   "source": [
    "#random\n",
    "print('EEG Engagement Mean of Total: ', np.mean(getColumn(flistRandom, 'Total', adaptive = False)))\n",
    "print('Mean of Frontal: ', np.mean(getColumn(flistRandom, 'Frontal', adaptive = False)))\n",
    "print('Mean of Central: ', np.mean(getColumn(flistRandom, 'Central', adaptive = False)))\n",
    "print('Mean of Parietal: ', np.mean(getColumn(flistRandom, 'Parietal', adaptive = False)))"
   ]
  },
  {
   "cell_type": "code",
   "execution_count": 63,
   "id": "8a13b68a",
   "metadata": {
    "scrolled": true
   },
   "outputs": [
    {
     "name": "stdout",
     "output_type": "stream",
     "text": [
      "EEG Engagement Mean of Random:  0.43631203413975356\n",
      "EEG Engagement Mean of Adaptive:  0.5159611569500362\n",
      "WilcoxonResult(statistic=269.0, pvalue=0.09130478882450198)\n"
     ]
    }
   ],
   "source": [
    "import scipy\n",
    "from scipy.stats import wilcoxon\n",
    "\n",
    "print('EEG Engagement Mean of Random: ', np.mean(getColumn(flistRandom, 'Total', adaptive = False)))\n",
    "print('EEG Engagement Mean of Adaptive: ', np.mean(getColumn(flistAdaptive, 'Total', adaptive = True)))\n",
    "print(scipy.stats.wilcoxon(getColumn(flistAdaptive, 'Total', adaptive = True),getColumn(flistRandom, 'Total', adaptive = False)))\n"
   ]
  },
  {
   "cell_type": "code",
   "execution_count": 64,
   "id": "2e5905da",
   "metadata": {},
   "outputs": [
    {
     "name": "stdout",
     "output_type": "stream",
     "text": [
      "EEG Engagement Mean of Random (Frontal):  0.3093753540781632\n",
      "EEG Engagement Mean of Adaptive (Frontal):  1.8770825214009896\n",
      "WilcoxonResult(statistic=329.0, pvalue=0.3946277869210123)\n"
     ]
    }
   ],
   "source": [
    "print('EEG Engagement Mean of Random (Frontal): ', np.mean(getColumn(flistRandom, 'Frontal', adaptive = False)))\n",
    "print('EEG Engagement Mean of Adaptive (Frontal): ', np.mean(getColumn(flistAdaptive, 'Frontal', adaptive = True)))\n",
    "print(scipy.stats.wilcoxon(getColumn(flistAdaptive, 'Frontal', adaptive = True),getColumn(flistRandom, 'Frontal', adaptive = False)))\n"
   ]
  },
  {
   "cell_type": "code",
   "execution_count": 65,
   "id": "4dd406a5",
   "metadata": {},
   "outputs": [
    {
     "name": "stdout",
     "output_type": "stream",
     "text": [
      "EEG Engagement Mean of Random (Central):  0.3953899543510311\n",
      "EEG Engagement Mean of Adaptive (Central):  -0.26694327239234344\n",
      "WilcoxonResult(statistic=229.0, pvalue=0.024655710547297153)\n"
     ]
    }
   ],
   "source": [
    "print('EEG Engagement Mean of Random (Central): ', np.mean(getColumn(flistRandom, 'Central', adaptive = False)))\n",
    "print('EEG Engagement Mean of Adaptive (Central): ', np.mean(getColumn(flistAdaptive, 'Central', adaptive = True)))\n",
    "print(scipy.stats.wilcoxon(getColumn(flistAdaptive, 'Central', adaptive = True),getColumn(flistRandom, 'Central', adaptive = False)))\n"
   ]
  },
  {
   "cell_type": "code",
   "execution_count": 66,
   "id": "a086bd28",
   "metadata": {},
   "outputs": [
    {
     "name": "stdout",
     "output_type": "stream",
     "text": [
      "EEG Engagement Mean of Random (Parietal):  0.6601237139401712\n",
      "EEG Engagement Mean of Adaptive (Parietal):  -0.25499475652806197\n",
      "WilcoxonResult(statistic=339.0, pvalue=0.47664753658604797)\n"
     ]
    }
   ],
   "source": [
    "print('EEG Engagement Mean of Random (Parietal): ', np.mean(getColumn(flistRandom, 'Parietal', adaptive = False)))\n",
    "print('EEG Engagement Mean of Adaptive (Parietal): ', np.mean(getColumn(flistAdaptive, 'Parietal', adaptive = True)))\n",
    "print(scipy.stats.wilcoxon(getColumn(flistAdaptive, 'Parietal', adaptive = True),getColumn(flistRandom, 'Parietal', adaptive = False)))\n"
   ]
  }
 ],
 "metadata": {
  "kernelspec": {
   "display_name": "Python 3 (ipykernel)",
   "language": "python",
   "name": "python3"
  },
  "language_info": {
   "codemirror_mode": {
    "name": "ipython",
    "version": 3
   },
   "file_extension": ".py",
   "mimetype": "text/x-python",
   "name": "python",
   "nbconvert_exporter": "python",
   "pygments_lexer": "ipython3",
   "version": "3.9.12"
  }
 },
 "nbformat": 4,
 "nbformat_minor": 5
}
